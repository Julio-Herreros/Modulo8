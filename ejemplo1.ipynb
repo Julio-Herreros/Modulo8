{
 "cells": [
  {
   "cell_type": "code",
   "execution_count": null,
   "id": "49e716c1",
   "metadata": {},
   "outputs": [],
   "source": [
    "# VAmos a crear un file"
   ]
  }
 ],
 "metadata": {
  "language_info": {
   "name": "python"
  }
 },
 "nbformat": 4,
 "nbformat_minor": 5
}
